{
  "nbformat": 4,
  "nbformat_minor": 0,
  "metadata": {
    "colab": {
      "provenance": [],
      "authorship_tag": "ABX9TyNY3cZiMcgRe6H3exb63C5b",
      "include_colab_link": true
    },
    "kernelspec": {
      "name": "python3",
      "display_name": "Python 3"
    },
    "language_info": {
      "name": "python"
    }
  },
  "cells": [
    {
      "cell_type": "markdown",
      "metadata": {
        "id": "view-in-github",
        "colab_type": "text"
      },
      "source": [
        "<a href=\"https://colab.research.google.com/github/violetjzt/STQD6324-Assignment2/blob/main/Analysis_and_Conclusions.ipynb\" target=\"_parent\"><img src=\"https://colab.research.google.com/assets/colab-badge.svg\" alt=\"Open In Colab\"/></a>"
      ]
    },
    {
      "cell_type": "markdown",
      "source": [
        "# **1.General Delay Patterns**\n",
        "**Based on the visualized data, it is evident that arrival delays are generally shorter than departure delays. This may be attributed to pilots adjusting flight routes or increasing speed to compensate for delayed departures. Additionally, flights scheduled during nighttime hours (particularly in the evening and around midnight) exhibit significantly longer average delays compared to those in the morning. Within the weekly cycle, Saturdays tend to have the most punctual flights. Seasonally, flights in September, October, and November show comparatively lower average delay durations, suggesting more stable scheduling during these months.**"
      ],
      "metadata": {
        "id": "zZTPD10mN-3I"
      }
    },
    {
      "cell_type": "markdown",
      "source": [
        "# **2.Primary Causes of Flight Delays**\n",
        "**The three leading causes contributing to flight delays are Late Aircraft, Carrier, and NAS (National Airspace System), accounting for 37.7%, 28.5%, and 27.9% of the total delay time, respectively. In contrast, delays caused by Security-related issues are minimal, comprising only 0.2% of all delay time. This implies that air travel remains a relatively secure mode of transportation, with security-related disruptions being rare.**"
      ],
      "metadata": {
        "id": "SXiyJj0eOJjf"
      }
    },
    {
      "cell_type": "markdown",
      "source": [
        "# **3.Flight Cancellations**\n",
        "**The most frequent causes of flight cancellations are Weather conditions, NAS-related issues, and Carrier-related factors. Security concerns account for a negligible number of cancellations. Among all carriers, MQ (assumed to be a low-cost airline) reported the highest number of cancellations. On the other hand, airlines such as F9, AQ, and HA showed virtually no cancellations, suggesting they may be premium or business-oriented carriers. In terms of temporal distribution, February and December of 2007 saw the highest cancellation rates, while cancellations dropped noticeably between September and November—a trend that aligns with the previously observed period of lower delay frequency. This could indicate a seasonal lull in travel demand, resulting in fewer flights and subsequently fewer cancellations.**"
      ],
      "metadata": {
        "id": "d1sWTM37OJ2m"
      }
    },
    {
      "cell_type": "markdown",
      "source": [
        "# **4.Routes with Highest Average Delay Times**\n",
        "**The final two visualizations highlight the five routes with the longest average delay times: ONT–IAD, ELP–MFE, ACY–MYR, MDT–CLE, and JAX–CMH. However, the underlying causes of delays on these routes vary significantly.**\n",
        "\n",
        "**-Delays on ONT–IAD and ELP–MFE are predominantly due to weather conditions.**\n",
        "\n",
        "**-The primary cause of delay on ACY–MYR is Late Aircraft Delay.**\n",
        "\n",
        "**-NAS delays are the main issue for MDT–CLE.**\n",
        "\n",
        "**-Carrier-related delays account for most of the disruptions on JAX–CMH.**"
      ],
      "metadata": {
        "id": "gqLQQ1BuOKDe"
      }
    }
  ]
}