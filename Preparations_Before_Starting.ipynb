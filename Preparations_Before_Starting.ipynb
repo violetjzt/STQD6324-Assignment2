{
  "nbformat": 4,
  "nbformat_minor": 0,
  "metadata": {
    "colab": {
      "provenance": [],
      "authorship_tag": "ABX9TyOlaHDmcKLgKJKZiKOdF0yI",
      "include_colab_link": true
    },
    "kernelspec": {
      "name": "python3",
      "display_name": "Python 3"
    },
    "language_info": {
      "name": "python"
    }
  },
  "cells": [
    {
      "cell_type": "markdown",
      "metadata": {
        "id": "view-in-github",
        "colab_type": "text"
      },
      "source": [
        "<a href=\"https://colab.research.google.com/github/violetjzt/STQD6324-Assignment2/blob/main/Preparations_Before_Starting.ipynb\" target=\"_parent\"><img src=\"https://colab.research.google.com/assets/colab-badge.svg\" alt=\"Open In Colab\"/></a>"
      ]
    },
    {
      "cell_type": "code",
      "execution_count": null,
      "metadata": {
        "id": "wzk9iSpDqMZZ"
      },
      "outputs": [],
      "source": []
    },
    {
      "cell_type": "markdown",
      "source": [
        "# **Preparations Before Starting: Connecting Hive with Python**\n",
        "\n",
        "\n",
        "\n",
        "\n",
        "\n",
        "\n",
        "\n",
        "\n"
      ],
      "metadata": {
        "id": "sYwmfsR4EZ1m"
      }
    },
    {
      "cell_type": "markdown",
      "source": [
        "**pscp -P 2222 C:\\Users\\PC02\\Desktop\\2007.csv maria_dev@127.0.0.1:/home/maria_dev/**"
      ],
      "metadata": {
        "id": "nJWVM7ydqP-a"
      }
    },
    {
      "cell_type": "markdown",
      "source": [
        "**ls -lh 2007.csv**\n"
      ],
      "metadata": {
        "id": "sQK8PQ5_qV9K"
      }
    },
    {
      "cell_type": "markdown",
      "source": [
        "**hdfs dfs -mkdir -p /data/flight_data_2007**\n"
      ],
      "metadata": {
        "id": "Lm5kLh_CE_Dd"
      }
    },
    {
      "cell_type": "markdown",
      "source": [
        "**hdfs dfs -put 2007.csv /data/flight_data_2007/**"
      ],
      "metadata": {
        "id": "A7L3rxMzFCaG"
      }
    },
    {
      "cell_type": "code",
      "source": [],
      "metadata": {
        "id": "CWht8PM3v0sy"
      },
      "execution_count": null,
      "outputs": []
    }
  ]
}